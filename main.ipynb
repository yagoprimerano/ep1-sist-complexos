{
 "cells": [
  {
   "cell_type": "code",
   "execution_count": 1,
   "metadata": {},
   "outputs": [],
   "source": [
    "import numpy as np"
   ]
  },
  {
   "cell_type": "code",
   "execution_count": 3,
   "metadata": {},
   "outputs": [],
   "source": [
    "n = 5  # número de guichês de atendimento\n",
    "μ = 0.5  # taxa de atendimento do guichê\n",
    "λ = 3  # taxa de chegada dos clientes\n",
    "T = 50  # tempo total de funcionamento do sistema (em minutos)\n",
    "N = 10000  # número de repetições da simulação"
   ]
  },
  {
   "cell_type": "code",
   "execution_count": 2,
   "metadata": {},
   "outputs": [],
   "source": [
    "def simular_atendimento_com_fila(n, μ, λ, T, N):\n",
    "    x_historic = [] # resultados de clientes atendidos\n",
    "    y_historic = [] # resultados de clientes que foram embora\n",
    "    w_historic = [] # resultados de proporção de clientes que foram embora\n",
    "  \n",
    "    x_total = 0  # contador total de clientes atendidos\n",
    "    y_total = 0  # contador total de clientes que foram embora\n",
    "    r_total = 0  # comprimento total da fila\n",
    "    tm_total = 0  # tempo máximo de permanência\n",
    "    \n",
    "    for _ in range(N):\n",
    "        Tu = 0  # instante de chegada do último cliente até o momento\n",
    "        tdisp = np.zeros(n)  # instante em que cada guichê estará disponível\n",
    "        k = 0  # contador de clientes que entraram na fila até o momento\n",
    "        tcheg = []  # instante em que cada cliente chegou\n",
    "        x = 0  # contador de clientes atendidos\n",
    "        y = 0  # contador de clientes que foram embora\n",
    "        r = 0  # comprimento atual da fila\n",
    "        tm = 0  # tempo máximo de permanência\n",
    "        \n",
    "        while Tu < T:\n",
    "            z = np.random.exponential(scale=1/λ)  # intervalo de tempo até a chegada do próximo cliente\n",
    "            Tu += z  # instante de chegada do próximo cliente\n",
    "            tcheg.append(Tu)\n",
    "            \n",
    "            # Verificar o comprimento da fila\n",
    "            pr = r / (r + n) if r != 0 else 0  # probabilidade do cliente ir embora\n",
    "            if np.random.rand() < pr:\n",
    "                y += 1  # cliente vai embora\n",
    "            else:\n",
    "                # Cliente entra na fila\n",
    "                k += 1\n",
    "                r += 1\n",
    "                \n",
    "                # Atendimento do cliente na fila\n",
    "                if np.any(Tu >= tdisp):\n",
    "                    idx_guiche = np.argmin(tdisp)  # encontrar o guichê disponível mais cedo\n",
    "                    tdisp[idx_guiche] = Tu + np.random.exponential(scale=1/μ)  # tempo de atendimento\n",
    "                    r -= 1  # cliente sai da fila\n",
    "                    x += 1  # cliente é atendido\n",
    "                    tm = max(tm, Tu - tcheg[k-1])  # calcular o tempo máximo de permanência\n",
    "        x_historic.append(x)\n",
    "        y_historic.append(y)\n",
    "        w_historic.append(y / (x + y + r))\n",
    "\n",
    "        x_total += x\n",
    "        y_total += y\n",
    "        r_total += r\n",
    "        tm_total += tm\n",
    "    \n",
    "    # Calcular a proporção de clientes que foram embora\n",
    "    w_total = y_total / (x_total + y_total + r_total)\n",
    "\n",
    "    x_mean = np.mean(x_historic)\n",
    "    y_mean = np.mean(y_historic)\n",
    "    w_mean = np.mean(w_historic)\n",
    "\n",
    "    x_desvio = np.std(x_historic)\n",
    "    y_desvio = np.std(y_historic)\n",
    "    w_desvio = np.std(w_historic)\n",
    "    \n",
    "    # Retornar o número médio de clientes atendidos, número médio de clientes que foram embora,\n",
    "    # comprimento médio da fila e tempo máximo de permanência\n",
    "    return x_mean, y_mean, w_mean, x_desvio, y_desvio, w_desvio\n"
   ]
  },
  {
   "cell_type": "code",
   "execution_count": 4,
   "metadata": {},
   "outputs": [],
   "source": [
    "x_mean, y_mean, w_mean, x_desvio, y_desvio, w_desvio = simular_atendimento_com_fila(n, μ, λ, T, N)"
   ]
  }
 ],
 "metadata": {
  "kernelspec": {
   "display_name": "my_env",
   "language": "python",
   "name": "python3"
  },
  "language_info": {
   "codemirror_mode": {
    "name": "ipython",
    "version": 3
   },
   "file_extension": ".py",
   "mimetype": "text/x-python",
   "name": "python",
   "nbconvert_exporter": "python",
   "pygments_lexer": "ipython3",
   "version": "3.11.8"
  }
 },
 "nbformat": 4,
 "nbformat_minor": 2
}
