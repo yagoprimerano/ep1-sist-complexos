{
 "cells": [
  {
   "cell_type": "code",
   "execution_count": null,
   "metadata": {},
   "outputs": [],
   "source": [
    "import numpy as np\n",
    "import matplotlib.pyplot as plt\n",
    "from numpy.typing import NDArray\n",
    "import matplotlib.pyplot as plt\n",
    "from matplotlib.colors import ListedColormap, BoundaryNorm\n",
    "from IPython.display import display, clear_output\n",
    "import time\n",
    "from tqdm import tqdm\n",
    "\n"
   ]
  },
  {
   "cell_type": "code",
   "execution_count": null,
   "metadata": {},
   "outputs": [],
   "source": [
    "p_inicial = 0 # probability of a cell being alive\n",
    "p_final = 1 # probability of a cell being alive\n",
    "p_step = 10 # number of steps in the probability\n",
    "n = 100 # size of the grid\n",
    "m = 500 # number of generations"
   ]
  },
  {
   "cell_type": "code",
   "execution_count": null,
   "metadata": {},
   "outputs": [],
   "source": [
    "def plot_heatmap(matrix: np.ndarray) -> None:\n",
    "    cmap = ListedColormap(['white', 'green', 'red', 'black'])\n",
    "    norm = BoundaryNorm([0, 1, 2, 3, 4], cmap.N)\n",
    "\n",
    "    plt.imshow(matrix, cmap=cmap, norm=norm, interpolation='nearest')\n",
    "    plt.colorbar()\n",
    "    plt.title(\"Mapa de Calor\")\n",
    "    plt.xlabel(\"Colunas\")\n",
    "    plt.ylabel(\"Linhas\")\n",
    "    plt.show()"
   ]
  },
  {
   "cell_type": "code",
   "execution_count": null,
   "metadata": {},
   "outputs": [],
   "source": [
    "def generate_probabilitie_matrix(n: int) -> NDArray[np.float64]:\n",
    "    P = np.random.rand(n, n)\n",
    "    return P"
   ]
  },
  {
   "cell_type": "code",
   "execution_count": null,
   "metadata": {},
   "outputs": [],
   "source": [
    "def generate_burning_tree(matrix, p):\n",
    "    while True:\n",
    "        x = np.random.randint(matrix.shape[0])\n",
    "        y = np.random.randint(matrix.shape[1])\n",
    "        if matrix[x, y] < p:\n",
    "            return x, y"
   ]
  },
  {
   "cell_type": "code",
   "execution_count": null,
   "metadata": {},
   "outputs": [],
   "source": [
    "def initialize_forest(matrix, p):\n",
    "    n = matrix.shape[0]\n",
    "    \"\"\"Initialize the forest with trees distributed with probability p\"\"\"\n",
    "    forest = np.zeros((n, n), dtype=np.int8)\n",
    "    for i in range(n):\n",
    "        for j in range(n):\n",
    "            if matrix[i][j] < p:\n",
    "                forest[i, j] = 1\n",
    "    return forest"
   ]
  },
  {
   "cell_type": "code",
   "execution_count": null,
   "metadata": {},
   "outputs": [],
   "source": [
    "def update_forest(forest, burning_trees):\n",
    "    \"\"\"Update the forest by spreading the fire\"\"\"\n",
    "    new_forest = forest.copy()\n",
    "    new_burning_trees = set()\n",
    "    max_l = forest.shape[0]\n",
    "\n",
    "    for x, y in burning_trees:\n",
    "        for i in range(-1, 2):\n",
    "            for j in range(-1, 2):\n",
    "                if i == 0 and j == 0:\n",
    "                    new_forest[x, y] = 3\n",
    "                elif 0 <= x + i < max_l and 0 <= y + j < max_l:\n",
    "                    if forest[x + i, y + j] == 1:\n",
    "                        new_forest[x + i, y + j] = 2\n",
    "                        new_burning_trees.add((x + i, y + j))\n",
    "    return new_forest, new_burning_trees"
   ]
  },
  {
   "cell_type": "code",
   "execution_count": null,
   "metadata": {},
   "outputs": [],
   "source": [
    "def simulate_forest_fire(forest, burning_trees):\n",
    "    \"\"\"Simulate the forest fire\"\"\"\n",
    "    count = 0\n",
    "    while burning_trees:\n",
    "        forest, burning_trees = update_forest(forest, burning_trees)\n",
    "        count += 1\n",
    "    total_burned = np.sum(forest == 3)\n",
    "    total_not_burned = np.sum(forest == 1)\n",
    "    return total_burned, total_not_burned, count"
   ]
  },
  {
   "cell_type": "code",
   "execution_count": null,
   "metadata": {},
   "outputs": [],
   "source": [
    "def simulate_any_forests(probabilities_matrixes, burning_trees, p):\n",
    "    burned = []\n",
    "    not_burned = []\n",
    "    counts = []\n",
    "    for matrix in probabilities_matrixes:\n",
    "        forest = initialize_forest(matrix, p)\n",
    "        total_burned, total_not_burned, count = simulate_forest_fire(forest, burning_trees)\n",
    "        burned.append(total_burned)\n",
    "        not_burned.append(total_not_burned)\n",
    "        counts.append(count)\n",
    "    return burned, not_burned, counts"
   ]
  },
  {
   "cell_type": "code",
   "execution_count": null,
   "metadata": {},
   "outputs": [],
   "source": [
    "p_values = np.linspace(p_inicial, p_final, p_step)\n",
    "probabilities_matrixes = [generate_probabilitie_matrix(n) for _ in range(m)]\n",
    "burning_trees = [generate_burning_tree(matrix, p_inicial) for matrix in probabilities_matrixes]\n",
    "\n",
    "burned_mean = []\n",
    "not_burned_mean = []\n",
    "counts_mean = []\n",
    "\n",
    "for p in tqdm(p_values, desc=\"Simulating\"):\n",
    "    burned, not_burned, counts = simulate_any_forests(probabilities_matrixes, burning_trees, p)\n",
    "    burned_mean.append(np.mean(burned))\n",
    "    not_burned_mean.append(np.mean(not_burned))\n",
    "    counts_mean.append(np.mean(counts))\n",
    "\n",
    "burned_mean_array = np.array(burned_mean)\n",
    "burned_percentage = burned_mean_array / (burned_mean_array + not_burned_mean)"
   ]
  },
  {
   "cell_type": "code",
   "execution_count": null,
   "metadata": {},
   "outputs": [],
   "source": [
    "burned_mean_array = np.array(burned_mean)\n",
    "burned_percentage = burned_mean_array / (burned_mean_array + not_burned_mean)"
   ]
  },
  {
   "cell_type": "code",
   "execution_count": null,
   "metadata": {},
   "outputs": [],
   "source": [
    "plt.subplot(1, 2, 1)\n",
    "plt.plot(p_values, burned_percentage, 'o-')\n",
    "plt.xlabel('Initial tree density (p)')\n",
    "plt.ylabel('Average burned area fraction')\n",
    "plt.title('Average Burned Area vs Initial Tree Density')\n",
    "\n"
   ]
  },
  {
   "cell_type": "code",
   "execution_count": null,
   "metadata": {},
   "outputs": [],
   "source": [
    "plt.subplot(1, 2, 2)\n",
    "plt.plot(p_values, counts_mean, 'o-')\n",
    "plt.xlabel('Initial tree density (p)')\n",
    "plt.ylabel('Average number of iterations')\n",
    "plt.title('Average Iterations vs Initial Tree Density')"
   ]
  },
  {
   "cell_type": "code",
   "execution_count": null,
   "metadata": {},
   "outputs": [],
   "source": [
    "p=0.4\n",
    "n = 100\n",
    "probabilities_matrixe = generate_probabilitie_matrix(n)\n",
    "forest = initialize_forest(probabilities_matrixe, p)\n",
    "burning_trees = [generate_burning_tree(probabilities_matrixe, p)]\n",
    "iterations = 0\n",
    "while len(burning_trees) > 0:\n",
    "  iterations += 1\n",
    "  forest, burning_trees = update_forest(forest, burning_trees)\n",
    "  plot_heatmap(forest)\n",
    "  total_burned = np.sum(forest == 3)\n",
    "  total_not_burned = np.sum(forest == 1)\n",
    "  print(f\"Iterações: {iterations}, Área queimada (pelo total): {(total_burned/(n^2)):.2f}%\")\n",
    "  print(f\"Área queimada (por não área queimada): {(100*total_burned/(total_burned + total_not_burned)):.2f}%\")\n",
    "  print(total_burned, total_not_burned)\n",
    "  # time.sleep(0.05)\n",
    "  clear_output(wait=True)"
   ]
  },
  {
   "cell_type": "code",
   "execution_count": null,
   "metadata": {},
   "outputs": [],
   "source": [
    "while len(burning_trees) > 0:\n",
    "  forest, burning_trees = update_forest(forest, burning_trees)\n",
    "  plot_heatmap(forest)\n",
    "  print(len(burning_trees))\n",
    "  time.sleep(0.1)\n",
    "  clear_output(wait=True)"
   ]
  },
  {
   "cell_type": "code",
   "execution_count": null,
   "metadata": {},
   "outputs": [],
   "source": [
    "plot_heatmap(forest)\n",
    "time.sleep(1)\n",
    "clear_output(wait=True)\n",
    "plot_heatmap(forest)\n"
   ]
  }
 ],
 "metadata": {
  "kernelspec": {
   "display_name": "Python 3 (ipykernel)",
   "language": "python",
   "name": "python3"
  },
  "language_info": {
   "codemirror_mode": {
    "name": "ipython",
    "version": 3
   },
   "file_extension": ".py",
   "mimetype": "text/x-python",
   "name": "python",
   "nbconvert_exporter": "python",
   "pygments_lexer": "ipython3",
   "version": "3.11.9"
  }
 },
 "nbformat": 4,
 "nbformat_minor": 4
}
